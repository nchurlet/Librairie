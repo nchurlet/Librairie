{
 "cells": [
  {
   "cell_type": "markdown",
   "metadata": {},
   "source": [
    "# Analyser les ventes d'un site de e-commerce spécialisé dans les livres"
   ]
  },
  {
   "cell_type": "markdown",
   "metadata": {},
   "source": [
    "L'entreprise pour qui vous travaillez souhaite analyser les ventes de son site et mieux connaitre ses clients, ainsi que le détail des ventes de ses produits"
   ]
  },
  {
   "cell_type": "markdown",
   "metadata": {},
   "source": [
    "Vous pourrez télécharger l'ensemble des données [via ce lien](https://s3-eu-west-1.amazonaws.com/static.oc-static.com/prod/courses/files/parcours-data-analyst/dataset_P4.zip)  Les données que vous avez à disposition :   \n",
    "* les ventes (appelées “Transactions”)  \n",
    "* la liste des clients  \n",
    "* la liste des produits."
   ]
  },
  {
   "cell_type": "markdown",
   "metadata": {},
   "source": [
    "## Corrélations des données"
   ]
  },
  {
   "cell_type": "markdown",
   "metadata": {},
   "source": [
    "Vous allez réalisé l’analyse des données. Une grande liberté vous est laissée sur ce plan, mais gardez en tête la mission gloable : nous souhaitons comprendre les ventes.\n",
    "\n",
    "Vous devrez y utiliser au moins :\n",
    "\n",
    "* Y a-t-il une corrélation entre le sexe des clients et les catégories de produits achetés ?\n",
    "* Y a-t-il une corrélation entre l'âge des clients et :  \n",
    "    Le montant total des achats ;  \n",
    "    La fréquence d’achat (ie. nombre d'achats par mois par exemple) ;  \n",
    "    La taille du panier moyen (en nombre d’articles) ;  \n",
    "    Les catégories de produits achetés.  "
   ]
  },
  {
   "cell_type": "markdown",
   "metadata": {},
   "source": [
    "Il existe 3 corrélations possibles : \n",
    "* corrélation entre deux variables quantitatives : matrice de corrélation et heatmap sont souvent utilisés  \n",
    "* corrélation entre une variable qualitative et une variable quantitative : [ANOVA](https://openclassrooms.com/fr/courses/4525266-decrivez-et-nettoyez-votre-jeu-de-donnees/4774896-analysez-une-variable-quantitative-et-une-qualitative-par-anova)  \n",
    "* corrélation entre deux variables qualitatives : [Chi-2](https://openclassrooms.com/fr/courses/4525266-decrivez-et-nettoyez-votre-jeu-de-donnees/4775616-analysez-deux-variables-qualitatives-avec-le-chi-2)"
   ]
  },
  {
   "cell_type": "code",
   "execution_count": null,
   "metadata": {},
   "outputs": [],
   "source": []
  }
 ],
 "metadata": {
  "kernelspec": {
   "display_name": "Python 3",
   "language": "python",
   "name": "python3"
  },
  "language_info": {
   "codemirror_mode": {
    "name": "ipython",
    "version": 3
   },
   "file_extension": ".py",
   "mimetype": "text/x-python",
   "name": "python",
   "nbconvert_exporter": "python",
   "pygments_lexer": "ipython3",
   "version": "3.7.6"
  }
 },
 "nbformat": 4,
 "nbformat_minor": 4
}
